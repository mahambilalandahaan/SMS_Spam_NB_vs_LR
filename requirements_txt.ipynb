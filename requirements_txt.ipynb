{
  "nbformat": 4,
  "nbformat_minor": 0,
  "metadata": {
    "colab": {
      "provenance": []
    },
    "kernelspec": {
      "name": "python3",
      "display_name": "Python 3"
    },
    "language_info": {
      "name": "python"
    }
  },
  "cells": [
    {
      "cell_type": "code",
      "source": [
        "!pip freeze > requirements.txt\n",
        "import importlib.metadata\n",
        "\n",
        "packages = [\"pandas\", \"numpy\", \"scikit-learn\", \"matplotlib\", \"seaborn\"]\n",
        "\n",
        "with open(\"requirements.txt\", \"w\") as f:\n",
        "    for package in packages:\n",
        "        version = importlib.metadata.version(package)\n",
        "        f.write(f\"{package}=={version}\\n\")\n",
        "\n",
        "\n"
      ],
      "metadata": {
        "id": "XhXCYCk_N-4M"
      },
      "execution_count": 2,
      "outputs": []
    }
  ]
}